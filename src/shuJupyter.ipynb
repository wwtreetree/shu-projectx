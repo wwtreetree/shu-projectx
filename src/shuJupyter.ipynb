{
 "cells": [
  {
   "cell_type": "code",
   "execution_count": 25,
   "metadata": {
    "collapsed": true
   },
   "outputs": [],
   "source": [
    "import numpy as np\n",
    "\n",
    "import matplotlib.pyplot as plt\n",
    "import string\n",
    "import warnings\n",
    "warnings.filterwarnings('ignore')\n",
    "import seaborn as sns\n",
    "sns.set(style=\"darkgrid\")\n",
    "from sklearn.ensemble import RandomForestClassifier\n",
    "from sklearn.preprocessing import OneHotEncoder, LabelEncoder, StandardScaler\n",
    "from sklearn.metrics import roc_curve, auc\n",
    "from sklearn.model_selection import StratifiedKFold\n",
    "SEED = 42"
   ]
  },
  {
   "cell_type": "code",
   "execution_count": 26,
   "outputs": [
    {
     "name": "stdout",
     "output_type": "stream",
     "text": [
      "Number of Economic Damage Examples = 561\n",
      "Number of Events Examples = 828\n",
      "\n",
      "Economic Damage X Shape = (561, 4)\n",
      "Economic Damage Y Shape = 561\n",
      "\n",
      "Events X Shape = (828, 4)\n",
      "Events Y Shape = 828\n",
      "\n",
      "Index(['Entity', 'Code', 'Year',\n",
      "       'Total economic damage from natural disasters (US$)'],\n",
      "      dtype='object')\n",
      "Index(['Entity', 'Code', 'Year',\n",
      "       'Number of reported natural disasters (reported disasters)'],\n",
      "      dtype='object')\n"
     ]
    }
   ],
   "source": [
    "import pandas as pd\n",
    "def concat_df(train_data, test_data):\n",
    "     # Returns a concatenated df of econDamage and numEvents set\n",
    "    return pd.concat([train_data,test_data],sort=True).reset_index(drop=True)\n",
    "\n",
    "def divide_df(all_data):\n",
    "    # Returns divided dfs of train\n",
    "    # ng and test set\n",
    "    return all_data.loc[:890], all_data.loc[891:].drop(['Survived'], axis=1)\n",
    "\n",
    "df_econDamage = pd.read_csv('/Users/shuwang/PycharmProjects/shu-projectx/data/economic-damage-from-natural-disasters.csv')\n",
    "df_numEvents = pd.read_csv('/Users/shuwang/PycharmProjects/shu-projectx/data/number-of-natural-disaster-events.csv')\n",
    "df_all = concat_df(df_econDamage,df_numEvents)\n",
    "df_econDamage.name = 'Economic Damage from Natural Disasters Set'\n",
    "df_numEvents.name = 'Number of Natural Disaster Events Set'\n",
    "df_all.name = 'All Set'\n",
    "\n",
    "dfs = [df_econDamage,df_numEvents]\n",
    "print('Number of Economic Damage Examples = {}'.format(df_econDamage.shape[0]))\n",
    "print('Number of Events Examples = {}\\n'.format(df_numEvents.shape[0]))\n",
    "\n",
    "print('Economic Damage X Shape = {}'.format(df_econDamage.shape))\n",
    "print('Economic Damage Y Shape = {}\\n'.format(df_econDamage.shape[0]))\n",
    "\n",
    "print('Events X Shape = {}'.format(df_numEvents.shape))\n",
    "print('Events Y Shape = {}\\n'.format(df_numEvents.shape[0]))\n",
    "print(df_econDamage.columns)\n",
    "print(df_numEvents.columns)"
   ],
   "metadata": {
    "collapsed": false,
    "pycharm": {
     "name": "#%%\n"
    }
   }
  },
  {
   "cell_type": "code",
   "execution_count": 27,
   "outputs": [
    {
     "name": "stdout",
     "output_type": "stream",
     "text": [
      "<class 'pandas.core.frame.DataFrame'>\n",
      "RangeIndex: 561 entries, 0 to 560\n",
      "Data columns (total 4 columns):\n",
      " #   Column                                              Non-Null Count  Dtype  \n",
      "---  ------                                              --------------  -----  \n",
      " 0   Entity                                              561 non-null    object \n",
      " 1   Code                                                0 non-null      float64\n",
      " 2   Year                                                561 non-null    int64  \n",
      " 3   Total economic damage from natural disasters (US$)  561 non-null    int64  \n",
      "dtypes: float64(1), int64(2), object(1)\n",
      "memory usage: 17.7+ KB\n",
      "None\n",
      "<class 'pandas.core.frame.DataFrame'>\n",
      "RangeIndex: 828 entries, 0 to 827\n",
      "Data columns (total 4 columns):\n",
      " #   Column                                                     Non-Null Count  Dtype  \n",
      "---  ------                                                     --------------  -----  \n",
      " 0   Entity                                                     828 non-null    object \n",
      " 1   Code                                                       0 non-null      float64\n",
      " 2   Year                                                       828 non-null    int64  \n",
      " 3   Number of reported natural disasters (reported disasters)  828 non-null    int64  \n",
      "dtypes: float64(1), int64(2), object(1)\n",
      "memory usage: 26.0+ KB\n",
      "None\n"
     ]
    },
    {
     "data": {
      "text/plain": "                  Entity  Code  Year  \\\n317  Extreme temperature   NaN  1968   \n277           Earthquake   NaN  1989   \n236           Earthquake   NaN  1948   \n\n     Number of reported natural disasters (reported disasters)  \n317                                                  2          \n277                                                 19          \n236                                                  5          ",
      "text/html": "<div>\n<style scoped>\n    .dataframe tbody tr th:only-of-type {\n        vertical-align: middle;\n    }\n\n    .dataframe tbody tr th {\n        vertical-align: top;\n    }\n\n    .dataframe thead th {\n        text-align: right;\n    }\n</style>\n<table border=\"1\" class=\"dataframe\">\n  <thead>\n    <tr style=\"text-align: right;\">\n      <th></th>\n      <th>Entity</th>\n      <th>Code</th>\n      <th>Year</th>\n      <th>Number of reported natural disasters (reported disasters)</th>\n    </tr>\n  </thead>\n  <tbody>\n    <tr>\n      <th>317</th>\n      <td>Extreme temperature</td>\n      <td>NaN</td>\n      <td>1968</td>\n      <td>2</td>\n    </tr>\n    <tr>\n      <th>277</th>\n      <td>Earthquake</td>\n      <td>NaN</td>\n      <td>1989</td>\n      <td>19</td>\n    </tr>\n    <tr>\n      <th>236</th>\n      <td>Earthquake</td>\n      <td>NaN</td>\n      <td>1948</td>\n      <td>5</td>\n    </tr>\n  </tbody>\n</table>\n</div>"
     },
     "execution_count": 27,
     "metadata": {},
     "output_type": "execute_result"
    }
   ],
   "source": [
    "print(df_econDamage.info())\n",
    "df_econDamage.sample(3)\n",
    "\n",
    "print(df_numEvents.info())\n",
    "df_numEvents.sample(3)\n"
   ],
   "metadata": {
    "collapsed": false,
    "pycharm": {
     "name": "#%%\n"
    }
   }
  },
  {
   "cell_type": "code",
   "execution_count": 27,
   "outputs": [],
   "source": [],
   "metadata": {
    "collapsed": false,
    "pycharm": {
     "name": "#%%\n"
    }
   }
  },
  {
   "cell_type": "code",
   "execution_count": 27,
   "outputs": [],
   "source": [],
   "metadata": {
    "collapsed": false,
    "pycharm": {
     "name": "#%%\n"
    }
   }
  }
 ],
 "metadata": {
  "kernelspec": {
   "display_name": "Python 3",
   "language": "python",
   "name": "python3"
  },
  "language_info": {
   "codemirror_mode": {
    "name": "ipython",
    "version": 2
   },
   "file_extension": ".py",
   "mimetype": "text/x-python",
   "name": "python",
   "nbconvert_exporter": "python",
   "pygments_lexer": "ipython2",
   "version": "2.7.6"
  }
 },
 "nbformat": 4,
 "nbformat_minor": 0
}